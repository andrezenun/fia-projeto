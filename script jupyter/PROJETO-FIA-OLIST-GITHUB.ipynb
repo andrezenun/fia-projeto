{
 "cells": [
  {
   "cell_type": "code",
   "execution_count": 1,
   "id": "c9e395c1-72e4-4815-a8e2-a5ea0800f94b",
   "metadata": {},
   "outputs": [],
   "source": [
    "### FIA TRABALHO"
   ]
  },
  {
   "cell_type": "markdown",
   "id": "c0498d61-ba62-4338-8f91-b7dd228f5edb",
   "metadata": {},
   "source": []
  },
  {
   "cell_type": "code",
   "execution_count": null,
   "id": "e8f74fa9-8888-49bd-8f02-61087ad5ce7c",
   "metadata": {},
   "outputs": [],
   "source": [
    "#spark = (SparkSession.builder\n",
    "#         .config(\"spark.jars\",\"\"\"/home/jovyan/jars/aws-java-sdk-core-1.11.534.jar,\n",
    "#                                 /home/jovyan/jars/aws-java-sdk-dynamodb-1.11.534.jar,\n",
    "#                                 /home/jovyan/jars/aws-java-sdk-s3-1.11.534.jar,\n",
    "#                                 /home/jovyan/jars/hadoop-aws-3.2.2.jar,\n",
    "#                                 /home/jovyan/jars/postgresql-42.3.3.jar\"\"\").getOrCreate()\n",
    "#        )"
   ]
  },
  {
   "cell_type": "code",
   "execution_count": 4,
   "id": "63e11c28-bbad-43de-9ce7-0d75aca7b542",
   "metadata": {},
   "outputs": [],
   "source": [
    "from pyspark.sql import SparkSession\n",
    "\n",
    "spark = (SparkSession.builder\n",
    "         .config(\"spark.jars\",\"\"\"/home/jovyan/jars/azure-storage-8.6.4.jar,\n",
    "                                 /home/jovyan/jars/hadoop-azure-3.2.1.jar,\n",
    "                                 /home/jovyan/jars/jetty-util-9.3.25.v20180904.jar,\n",
    "                                 /home/jovyan/jars/jetty-util-ajax-11.0.7.jar\"\"\").getOrCreate()\n",
    "        )"
   ]
  },
  {
   "cell_type": "code",
   "execution_count": 9,
   "id": "fb57b29e-1876-4665-8225-9fb7b684660c",
   "metadata": {},
   "outputs": [
    {
     "data": {
      "text/html": [
       "<style>pre { white-space: pre !important; }</style>"
      ],
      "text/plain": [
       "<IPython.core.display.HTML object>"
      ]
     },
     "metadata": {},
     "output_type": "display_data"
    }
   ],
   "source": [
    "from IPython.core.display import HTML\n",
    "display(HTML(\"<style>pre { white-space: pre !important; }</style>\"))"
   ]
  },
  {
   "cell_type": "code",
   "execution_count": 6,
   "id": "c9c21085-c9f3-4f15-83fb-a6fe16552a6c",
   "metadata": {
    "tags": []
   },
   "outputs": [],
   "source": [
    "STORAGE_ACCOUNT = 'aulafiaead'\n",
    "CONTAINER = 'grupo4'\n",
    "BLOB_STORAGE_KEY = 'QDKbVST0U3yAaEI4HN9DFwYTB3jGO6xb4Kk5r59UFYOzXrkrVLESZKmrKzPZ/eEsDLV8Fw5XxybA+ASt4EZ2zA=='\n",
    "spark.conf.set(f\"fs.azure.account.key.{STORAGE_ACCOUNT}.blob.core.windows.net\", BLOB_STORAGE_KEY)\n",
    "olist_sellers_dataset = spark.read.format('parquet').load(f'wasbs://{CONTAINER}@{STORAGE_ACCOUNT}.blob.core.windows.net/bronze/olist_sellers_dataset.parquet')"
   ]
  },
  {
   "cell_type": "code",
   "execution_count": 10,
   "id": "8b2f0a2c-7861-4df2-a785-ff54b2a82c03",
   "metadata": {},
   "outputs": [
    {
     "name": "stdout",
     "output_type": "stream",
     "text": [
      "+--------------------------------+----------------------+-----------------+------------+\n",
      "|seller_id                       |seller_zip_code_prefix|seller_city      |seller_state|\n",
      "+--------------------------------+----------------------+-----------------+------------+\n",
      "|3442f8959a84dea7ee197c632cb2df15|13023                 |campinas         |SP          |\n",
      "|d1b65fc7debc3361ea86b5f14c68d2e2|13844                 |mogi guacu       |SP          |\n",
      "|ce3ad9de960102d0677a81f5d0bb7b2d|20031                 |rio de janeiro   |RJ          |\n",
      "|c0f3eea2e14555b6faeea3dd58c1b1c3|04195                 |sao paulo        |SP          |\n",
      "|51a04a8a6bdcb23deccc82b0b80742cf|12914                 |braganca paulista|SP          |\n",
      "|c240c4061717ac1806ae6ee72be3533b|20920                 |rio de janeiro   |RJ          |\n",
      "|e49c26c3edfa46d227d5121a6b6e4d37|55325                 |brejao           |PE          |\n",
      "|1b938a7ec6ac5061a66a3766e0e75f90|16304                 |penapolis        |SP          |\n",
      "|768a86e36ad6aae3d03ee3c6433d61df|01529                 |sao paulo        |SP          |\n",
      "|ccc4bbb5f32a6ab2b7066a4130f114e3|80310                 |curitiba         |PR          |\n",
      "|8cb7c5ddf41f4d506eba76e9a4702a25|75110                 |anapolis         |GO          |\n",
      "|a7a9b880c49781da66651ccf4ba9ac38|13530                 |itirapina        |SP          |\n",
      "|8bd0f31cf0a614c658f6763bd02dea69|01222                 |sao paulo        |SP          |\n",
      "|05a48cc8859962767935ab9087417fbb|05372                 |sao paulo        |SP          |\n",
      "|7b8e8ec35bad4b0ef7e3963650b0a87b|88705                 |tubarao          |SC          |\n",
      "|1444c08e64d55fb3c25f0f09c07ffcf2|42738                 |lauro de freitas |BA          |\n",
      "|166e8f1381e09651983c38b1f6f91c11|88780                 |imbituba         |SC          |\n",
      "|e38db885400cd35c71dfd162f2c1dbcf|70740                 |brasilia         |DF          |\n",
      "|d2e753bb80b7d4faa77483ed00edc8ca|45810                 |porto seguro     |BA          |\n",
      "|f9ec7093df3a7b346b7bcf7864069ca3|05138                 |sao paulo        |SP          |\n",
      "+--------------------------------+----------------------+-----------------+------------+\n",
      "only showing top 20 rows\n",
      "\n"
     ]
    }
   ],
   "source": [
    "olist_sellers_dataset.show(truncate=False)"
   ]
  },
  {
   "cell_type": "code",
   "execution_count": null,
   "id": "c05db711-6aef-4db4-9c5e-e5406b6d5c72",
   "metadata": {},
   "outputs": [],
   "source": [
    "olist_sellers_dataset."
   ]
  }
 ],
 "metadata": {
  "kernelspec": {
   "display_name": "Python 3 (ipykernel)",
   "language": "python",
   "name": "python3"
  },
  "language_info": {
   "codemirror_mode": {
    "name": "ipython",
    "version": 3
   },
   "file_extension": ".py",
   "mimetype": "text/x-python",
   "name": "python",
   "nbconvert_exporter": "python",
   "pygments_lexer": "ipython3",
   "version": "3.10.5"
  }
 },
 "nbformat": 4,
 "nbformat_minor": 5
}
